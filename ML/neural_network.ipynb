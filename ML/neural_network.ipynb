{
 "cells": [
  {
   "cell_type": "markdown",
   "metadata": {},
   "source": [
    "# Imports"
   ]
  },
  {
   "cell_type": "code",
   "execution_count": null,
   "metadata": {},
   "outputs": [],
   "source": [
    "import os, pickle, json, gc\n",
    "import tensorflow as tf\n",
    "from tensorflow import keras\n",
    "from tensorflow.keras import layers\n",
    "from collections import Counter\n",
    "import numpy as np, pandas as pd\n",
    "from sklearn.model_selection import KFold"
   ]
  },
  {
   "cell_type": "markdown",
   "metadata": {},
   "source": [
    "This Notebook will contain the code necessary for "
   ]
  },
  {
   "cell_type": "code",
   "execution_count": null,
   "metadata": {},
   "outputs": [],
   "source": [
    "def gen_for_serialisation(path_to_train):\n",
    "    site_data_files = [x for x in os.listdir(path_to_train)]\n",
    "    for file in site_data_files:\n",
    "        #../input/indoor-positioning-traindata/train_data\n",
    "        f = open(path_to_train +'/'+file, \"rb\")\n",
    "        site, train, ground = pickle.load(f)\n",
    "        f.close()\n",
    "        yield site,train,ground\n",
    "def get_x_y_floor(truth_array):\n",
    "    xs = list()\n",
    "    ys = list()\n",
    "    floors = list()\n",
    "    for lst in truth_array:\n",
    "        xs.append(lst[0])\n",
    "        ys.append(lst[1])\n",
    "        floors.append(lst[2])\n",
    "    return xs,ys,floors"
   ]
  },
  {
   "cell_type": "markdown",
   "metadata": {},
   "source": [
    "# Model Definition"
   ]
  },
  {
   "cell_type": "markdown",
   "metadata": {},
   "source": [
    "Run this code to create model"
   ]
  },
  {
   "cell_type": "code",
   "execution_count": null,
   "metadata": {},
   "outputs": [],
   "source": [
    "def create_model(input_d):\n",
    "    w1 = int(input_d/2)\n",
    "    w2 = int(input_d/20)\n",
    "    model = keras.Sequential()\n",
    "    model.add(layers.Flatten(input_shape(input_d,1)))\n",
    "    model.add(layers.Dense(w1, activation='sigmoid'))\n",
    "    model.add(layers.Dense(w2, activation='sigmoid'))\n",
    "    model.add(layers.Dense(3, activation='sigmoid'))\n",
    "    model.compile(optimizer=tf.optimizers.Adam(learning_rate=0.0005, beta_1=0.9, \n",
    "                        beta_2=0.999, epsilon=1e-07, \n",
    "                        amsgrad=False,name='Adam'),\n",
    "                  loss='mse', \n",
    "                  metrics=['mean_squared_error'])\n",
    "    #model.summary()\n",
    "    return model"
   ]
  },
  {
   "cell_type": "markdown",
   "metadata": {},
   "source": [
    "# Fitting"
   ]
  },
  {
   "cell_type": "code",
   "execution_count": null,
   "metadata": {},
   "outputs": [],
   "source": [
    "#fit to the neural net\n",
    "def fit(train_data, target_data, experiment_no, path_to_save):\n",
    "    # Define the K-fold Cross Validator\n",
    "    kfold = KFold(n_splits=10, shuffle=True)\n",
    "    # K-fold Cross Validation model evaluation\n",
    "    fold_no = 1\n",
    "    for train, test in kfold.split(train_data, target_data):\n",
    "        model = create_model(train_data[0].shape[0])\n",
    "        history = model.fit(\n",
    "                            train_data[train], \n",
    "                            target_data[train], \n",
    "                            batch_size=32,\n",
    "                            verbose=1, \n",
    "                            epochs=100,\n",
    "                            callbacks=[EarlyStopping(monitor='val_loss', patience=10)],\n",
    "                            validation_data=(train_data[test],target_data[test]))\n",
    "        with open('{pts}/{site}_{fold}_NN{exp_no}.pickle'.format(pts=path_to_save,site=site, fold=fold_no, exp_no=experiment_no), 'wb') as f:\n",
    "            pickle.dump(history.history, f)\n",
    "        fold_no = fold_no +1\n",
    "#fits model to x,y and floor coordinates\n",
    "def fit_model_site(site, train_data, target_data, path_to_save):\n",
    "    train_data = np.array(train_data)\n",
    "    train_data = train_data.astype(np.float)\n",
    "    target_data = np.array(target_data)\n",
    "    target_data = target_data.astype(np.float)\n",
    "    #predictors = ['x','y','floor']\n",
    "    fit(train_data, target_data, \"03\", path_to_save)\n",
    "\n",
    "#fits models for x,y, and floor seperately.\n",
    "def fit_model_site_all_three_model(site, train_data, target_data, path_to_save, exp_no)\n",
    "    train_data = np.array(train_data)\n",
    "    xs,ys,floors = get_x_y_floor(target_data)\n",
    "    target_data = {\"xs\": xs, \"ys\": ys, \"floors\" :floors}\n",
    "    for target in [\"xs\", \"ys\", \"floors\"]: #maybe list\n",
    "        fit(train_data, target_data[target], \"NN{exp_no}_{name}.pickle\".format(exp_no=exp_no, name=target), path_to_save)\n"
   ]
  },
  {
   "cell_type": "markdown",
   "metadata": {},
   "source": [
    "# Actual Training"
   ]
  },
  {
   "cell_type": "code",
   "execution_count": null,
   "metadata": {},
   "outputs": [],
   "source": [
    "path_to_save = \"\"\n",
    "exp_no = \"\"\n",
    "gen = gen_for_serialisation()\n",
    "for site, train, truth in gen:\n",
    "    fit_model_site_all_three_model(site, train, truth, path_to_save, exp_no)"
   ]
  }
 ],
 "metadata": {
  "kernelspec": {
   "display_name": "Python 3",
   "language": "python",
   "name": "python3"
  },
  "language_info": {
   "codemirror_mode": {
    "name": "ipython",
    "version": 3
   },
   "file_extension": ".py",
   "mimetype": "text/x-python",
   "name": "python",
   "nbconvert_exporter": "python",
   "pygments_lexer": "ipython3",
   "version": "3.7.9"
  }
 },
 "nbformat": 4,
 "nbformat_minor": 4
}
