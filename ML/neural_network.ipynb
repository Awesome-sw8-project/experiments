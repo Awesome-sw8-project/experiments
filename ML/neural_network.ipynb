{
 "cells": [
  {
   "cell_type": "markdown",
   "metadata": {},
   "source": [
    "# Imports"
   ]
  },
  {
   "cell_type": "code",
   "execution_count": null,
   "metadata": {},
   "outputs": [],
   "source": [
    "import os, pickle, json, gc\n",
    "import tensorflow as tf\n",
    "from tensorflow import keras\n",
    "from tensorflow.keras import layers\n",
    "from collections import Counter\n",
    "import numpy as np, pandas as pd\n",
    "from sklearn.model_selection import KFold"
   ]
  },
  {
   "cell_type": "markdown",
   "metadata": {},
   "source": [
    "# Paths for files"
   ]
  },
  {
   "cell_type": "code",
   "execution_count": null,
   "metadata": {},
   "outputs": [],
   "source": [
    "pt_testset = '../input/test-dataset-for-indoor-positioning-comp/test_data'\n",
    "os.mkdir('./hist')\n",
    "path_to_save ='./hist'\n",
    "path_to_train = '../input/training-dataset-for-indoor-positioning-comp/train_data'\n",
    "path_to_sample = '../input/indoor-location-navigation/sample_submission.csv'"
   ]
  },
  {
   "cell_type": "markdown",
   "metadata": {},
   "source": [
    "# Auxiliary Code"
   ]
  },
  {
   "cell_type": "markdown",
   "metadata": {},
   "source": [
    "This Notebook will contain the code necessary for "
   ]
  },
  {
   "cell_type": "code",
   "execution_count": null,
   "metadata": {},
   "outputs": [],
   "source": [
    "def gen_for_serialisation(path_to_train):\n",
    "    site_data_files = [x for x in os.listdir(path_to_train)]\n",
    "    for file in site_data_files:\n",
    "        #../input/indoor-positioning-traindata/train_data\n",
    "        f = open(path_to_train +'/'+file, \"rb\")\n",
    "        site, train, ground = pickle.load(f)\n",
    "        f.close()\n",
    "        yield site,train,ground\n",
    "def get_x_y_floor(truth_array):\n",
    "    xs = list()\n",
    "    ys = list()\n",
    "    floors = list()\n",
    "    for lst in truth_array:\n",
    "        xs.append(lst[0])\n",
    "        ys.append(lst[1])\n",
    "        floors.append(lst[2])\n",
    "    return xs,ys,floors\n",
    "\n",
    "def get_data_for_test(pt_test,site):\n",
    "    test_data = None\n",
    "    with open(\"{pt_test}/{site}.pickle\".format(pt_test=pt_test,site=site), \"rb\") as f:\n",
    "        test_data = pickle.load(f)\n",
    "    return test_data"
   ]
  },
  {
   "cell_type": "markdown",
   "metadata": {},
   "source": [
    "# Model Definition"
   ]
  },
  {
   "cell_type": "markdown",
   "metadata": {},
   "source": [
    "Run this code to create model"
   ]
  },
  {
   "cell_type": "code",
   "execution_count": null,
   "metadata": {},
   "outputs": [],
   "source": [
    "def create_model(input_d):\n",
    "    w1 = int(input_d[0]/2)\n",
    "    w2 = int(input_d[0]/4)\n",
    "    model = keras.Sequential()\n",
    "    #model.add(layers.Flatten(input_shape=input_d))\n",
    "    #model.add(keras.layers.Flatten(input_shape=(input_d[0])))\n",
    "    model.add(layers.Dense(w1, activation='sigmoid', input_shape=(input_d[0],)))\n",
    "    model.add(layers.Dense(w2, activation='relu'))\n",
    "    model.add(layers.Dense(w1, activation='sigmoid'))\n",
    "    model.add(layers.Dense(1))\n",
    "    model.compile(optimizer=tf.optimizers.Adam(lr=0.01),\n",
    "                  loss='mse', \n",
    "                  metrics=['mean_squared_error'])\n",
    "    #model.summary()\n",
    "    return model"
   ]
  },
  {
   "cell_type": "markdown",
   "metadata": {},
   "source": [
    "# Fitting"
   ]
  },
  {
   "cell_type": "code",
   "execution_count": null,
   "metadata": {},
   "outputs": [],
   "source": [
    "#fit to the neural net\n",
    "def fit(train_data, target_data, experiment_no, path_to_save, test_data):\n",
    "    target_data = np.asarray(target_data).astype(np.float)\n",
    "    train_data = np.asarray(train_data).astype(np.float)\n",
    "    predictions = dict()\n",
    "    # Define the K-fold Cross Validator\n",
    "    kfold = KFold(n_splits=10, shuffle=True)\n",
    "    # K-fold Cross Validation model evaluation\n",
    "    fold_no = 1\n",
    "    for train, test in kfold.split(train_data, target_data):\n",
    "        model = create_model(train_data[0].shape)\n",
    "        history = model.fit(\n",
    "                            train_data[train], \n",
    "                            target_data[train], \n",
    "                            batch_size=32,\n",
    "                            verbose=1, \n",
    "                            epochs=1,\n",
    "                            callbacks=[keras.callbacks.EarlyStopping(monitor='val_loss', patience=10)],\n",
    "                            validation_data=(train_data[test],target_data[test]))\n",
    "        with open('{pts}/{site}_{fold}_NN{exp_no}.pickle'.format(pts=path_to_save,site=site, fold=fold_no, exp_no=experiment_no), 'wb') as f:\n",
    "            pickle.dump(history.history, f)\n",
    "        if fold_no == 1:\n",
    "            for feat, timestamp in test_data:\n",
    "                feat1 = np.asarray(feat).astype(np.float)\n",
    "                predictions[timestamp] = model.predict(np.array([feat1,]))[0]\n",
    "        else:\n",
    "            for feat, timestamp in test_data:\n",
    "                feat1 = np.asarray(feat).astype(np.float)\n",
    "                predictions[timestamp] = np.add(predictions[timestamp], model.predict(np.array([feat1,]))[0] )\n",
    "\n",
    "        fold_no = fold_no +1\n",
    "    for key in predictions.keys():\n",
    "        predictions[key] = [x/10 for x in predictions[key]]\n",
    "    return predictions\n",
    "\n",
    "#fits models for x,y, and floor seperately.\n",
    "def fit_model_site_all_three_model(site, train_data, target_data, path_to_save, exp_no, test_data):\n",
    "    train_data = np.array(train_data)\n",
    "    xs,ys,floors = get_x_y_floor(target_data)\n",
    "    target_data = {\"xs\": xs, \"ys\": ys, \"floors\" :floors}\n",
    "    test_df = None\n",
    "    for target in [\"xs\", \"ys\", \"floors\"]:\n",
    "        preds = fit(train_data, target_data[target], \"NN{exp_no}_{name}.pickle\".format(exp_no=exp_no, name=target), path_to_save, test_data)\n",
    "        if target == \"xs\":\n",
    "            test_df = pd.DataFrame.from_dict(preds, orient='index', columns=['x'])\n",
    "            test_df[\"timestamp\"] = test_df.index\n",
    "        elif target == \"ys\":\n",
    "            test_df[\"y\"] = test_df[\"timestamp\"].map(preds)\n",
    "            test_df[\"y\"] = test_df[\"y\"].apply(lambda x: x[0])\n",
    "        elif target == \"floors\":\n",
    "            test_df[\"floor\"] = test_df[\"timestamp\"].map(preds)\n",
    "            test_df[\"floor\"] = test_df[\"floor\"].apply(lambda x: x[0])\n",
    "    return test_df"
   ]
  },
  {
   "cell_type": "markdown",
   "metadata": {},
   "source": [
    "# Actual Training"
   ]
  },
  {
   "cell_type": "code",
   "execution_count": null,
   "metadata": {},
   "outputs": [],
   "source": [
    "sample_dfs = list()\n",
    "gen = gen_for_serialisation(path_to_train)\n",
    "for site, train, truth in gen:\n",
    "    test_data = get_data_for_test(pt_testset, site)\n",
    "    sample_dfs.append( fit_model_site_all_three_model(site,train, truth, path_to_save, \"03\", test_data))\n",
    "\n",
    "sample_df = pd.concat(sample_dfs)\n",
    "index = get_sample_submission_index(path_to_sample)\n",
    "sample_df = sample_df.reindex(index).fillna(0)\n",
    "sample_df.to_csv(\"./sample_submission.csv\")"
   ]
  }
 ],
 "metadata": {
  "kernelspec": {
   "display_name": "Python 3",
   "language": "python",
   "name": "python3"
  },
  "language_info": {
   "codemirror_mode": {
    "name": "ipython",
    "version": 3
   },
   "file_extension": ".py",
   "mimetype": "text/x-python",
   "name": "python",
   "nbconvert_exporter": "python",
   "pygments_lexer": "ipython3",
   "version": "3.7.9"
  }
 },
 "nbformat": 4,
 "nbformat_minor": 4
}
